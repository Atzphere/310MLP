{
 "cells": [
  {
   "cell_type": "code",
   "execution_count": null,
   "id": "b66f0d58-3ded-4584-a435-8b637846b338",
   "metadata": {},
   "outputs": [],
   "source": [
    "from model import MLPNet\n",
    "import tf_keras as keras\n",
    "import pandas as pd\n",
    "import tensorflow as tf\n",
    "import crystal_loader\n",
    "from tqdm import tqdm\n",
    "import tqdm.keras\n",
    "# import symmetry\n",
    "from symmetry import *\n",
    "import dill\n",
    "from sklearn.preprocessing import StandardScaler\n",
    "\n",
    "from sklearn.model_selection import train_test_split\n"
   ]
  },
  {
   "cell_type": "code",
   "execution_count": null,
   "id": "589b1780-cf87-410c-87e8-bae7cc827280",
   "metadata": {},
   "outputs": [],
   "source": [
    "fpath = \"../data/TiO2/\"\n",
    "\n",
    "structs, labels = crystal_loader.get_dataset(fpath, halt=-1)\n",
    "\n",
    "with open(\"TiO2_features.dill\", \"rb\") as dill_file:\n",
    "    features = dill.load(dill_file)"
   ]
  },
  {
   "cell_type": "code",
   "execution_count": null,
   "id": "4e45b6a1-e521-4c32-972c-38633056f619",
   "metadata": {},
   "outputs": [],
   "source": [
    "layers = [keras.layers.Dense(100, activation=\"relu\"), keras.layers.Dense(100, activation=\"relu\")] + list([keras.layers.Dense(50, activation=\"relu\") for i in range(10)])\n",
    "\n",
    "MLP1 = MLPNet(layers=layers, n_syms=13)\n",
    "\n",
    "MLP1.compile(\n",
    "    optimizer = keras.optimizers.Adam(learning_rate=0.0001),\n",
    "    loss = keras.losses.MeanAbsoluteError(),\n",
    "    metrics = [keras.metrics.RootMeanSquaredError()]\n",
    ")\n"
   ]
  },
  {
   "cell_type": "code",
   "execution_count": null,
   "id": "89a78490-aa23-4ba0-98c0-6dc51ec1ad97",
   "metadata": {},
   "outputs": [],
   "source": [
    "def scale_ragged(features):\n",
    "    stacked = np.hstack(features).T\n",
    "    SSC = StandardScaler().fit(stacked)\n",
    "    scaled_features = [SSC.transform(struct.T) for struct in features]\n",
    "\n",
    "    return scaled_features\n",
    "\n",
    "\n",
    "print(scale_ragged(features))"
   ]
  },
  {
   "cell_type": "code",
   "execution_count": null,
   "id": "be690f70-bf8a-4132-aabc-6bbe7bf08d3f",
   "metadata": {},
   "outputs": [],
   "source": [
    "Xtrain = tf.ragged.constant(features, ragged_rank=1, inner_shape=(13,))"
   ]
  },
  {
   "cell_type": "code",
   "execution_count": null,
   "id": "70bd0cce-ac85-42c8-af5f-a45a029806ce",
   "metadata": {},
   "outputs": [],
   "source": [
    "res = MLP1.fit(\n",
    "    Xtrain, labels,\n",
    "    batch_size = 50,\n",
    "    epochs = 200,\n",
    "    # validation_data = (Xval, yval),\n",
    "    verbose = 0,\n",
    "    callbacks=[tqdm.keras.TqdmCallback()]\n",
    ")"
   ]
  },
  {
   "cell_type": "code",
   "execution_count": null,
   "id": "d13cec02-bfd3-48db-92d1-e58323dd1e1a",
   "metadata": {},
   "outputs": [],
   "source": [
    "print(MLP1.get_subnet().predict(Xtrain[0]))"
   ]
  }
 ],
 "metadata": {
  "kernelspec": {
   "display_name": "Python 3 (ipykernel)",
   "language": "python",
   "name": "python3"
  },
  "language_info": {
   "codemirror_mode": {
    "name": "ipython",
    "version": 3
   },
   "file_extension": ".py",
   "mimetype": "text/x-python",
   "name": "python",
   "nbconvert_exporter": "python",
   "pygments_lexer": "ipython3"
  }
 },
 "nbformat": 4,
 "nbformat_minor": 5
}
