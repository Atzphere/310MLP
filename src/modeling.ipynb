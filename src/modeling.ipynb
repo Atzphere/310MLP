{
 "cells": [
  {
   "cell_type": "code",
   "execution_count": null,
   "id": "b66f0d58-3ded-4584-a435-8b637846b338",
   "metadata": {},
   "outputs": [],
   "source": [
    "import model\n",
    "import tf_keras as keras\n",
    "import pandas as pd\n",
    "import tensorflow as tf\n",
    "import crystal_loader\n",
    "from tqdm import tqdm\n",
    "import tqdm.keras\n",
    "\n",
    "from symmetry import *\n",
    "import dill\n",
    "from sklearn.preprocessing import StandardScaler\n",
    "import h5py\n",
    "from sklearn.model_selection import train_test_split\n"
   ]
  },
  {
   "cell_type": "code",
   "execution_count": null,
   "id": "589b1780-cf87-410c-87e8-bae7cc827280",
   "metadata": {},
   "outputs": [],
   "source": [
    "pickles_path = \"../pickles/\"\n",
    "DNAME = \"TiO2_2015\"\n",
    "\n",
    "features, labels = crystal_loader.load_dset(pickles_path, DNAME)\n",
    "\n",
    "labels = np.array(labels)\n",
    "\n",
    "def scale_ragged(features):\n",
    "    stacked = np.vstack(features)\n",
    "    SSC = StandardScaler().fit(stacked)\n",
    "    scaled_features = [SSC.transform(struct) for struct in features]\n",
    "\n",
    "    return scaled_features\n",
    "\n",
    "scaled_features = scale_ragged(features)\n",
    "\n",
    "Xtrain, Xtest, y_train, y_test = train_test_split(scaled_features, labels, shuffle=True, random_state=12, test_size=0.4)\n",
    "Xval, Xtest, y_val, y_test = train_test_split(Xtest, y_test, shuffle=True, random_state=12, test_size=0.5)\n",
    "\n",
    "Xtrain = tf.ragged.constant(Xtrain, ragged_rank=1, inner_shape=(70,))\n",
    "Xval = tf.ragged.constant(Xval, ragged_rank=1, inner_shape=(70,))\n",
    "Xtest = tf.ragged.constant(Xtest, ragged_rank=1, inner_shape=(70,))"
   ]
  },
  {
   "cell_type": "code",
   "execution_count": null,
   "id": "be690f70-bf8a-4132-aabc-6bbe7bf08d3f",
   "metadata": {},
   "outputs": [],
   "source": [
    "from importlib import reload\n",
    "model = reload(model)\n",
    "MLPNet = model.MLPNet"
   ]
  },
  {
   "cell_type": "code",
   "execution_count": null,
   "id": "4e45b6a1-e521-4c32-972c-38633056f619",
   "metadata": {},
   "outputs": [],
   "source": [
    "layers = [keras.layers.Dense(50, activation=\"relu\"), keras.layers.Dense(20, activation=\"relu\")] + list([keras.layers.Dense(10, activation=\"relu\") for i in range(10)])\n",
    "\n",
    "MLP1 = MLPNet(layers=layers, N_features=70)\n",
    "\n",
    "MLP1.compile(\n",
    "    optimizer = keras.optimizers.Adam(learning_rate=0.0003),\n",
    "    loss = keras.losses.MeanSquaredError(),\n",
    "    metrics = [keras.metrics.RootMeanSquaredError()]\n",
    ")\n"
   ]
  },
  {
   "cell_type": "code",
   "execution_count": null,
   "id": "0107254e-618c-4cc8-a9d3-3b16f42da01f",
   "metadata": {},
   "outputs": [],
   "source": [
    "print(Xtrain.shape)"
   ]
  },
  {
   "cell_type": "code",
   "execution_count": null,
   "id": "70bd0cce-ac85-42c8-af5f-a45a029806ce",
   "metadata": {},
   "outputs": [],
   "source": [
    "res = MLP1.fit(\n",
    "    Xtrain, y_train,\n",
    "    batch_size = 50,\n",
    "    epochs = 5,\n",
    "    # validation_data = (Xval, yval),\n",
    "    verbose = 0,\n",
    "    validation_data=(Xval, y_val),\n",
    "    callbacks=[]\n",
    ")"
   ]
  },
  {
   "cell_type": "code",
   "execution_count": null,
   "id": "d13cec02-bfd3-48db-92d1-e58323dd1e1a",
   "metadata": {},
   "outputs": [],
   "source": [
    "import matplotlib.pyplot as plt\n",
    "\n",
    "fig, ax = plt.subplots()\n",
    "ax.plot(res.epoch, res.history[\"loss\"], label=\"training\")\n",
    "ax.plot(res.epoch, res.history[\"val_loss\"], label=\"validation\")\n",
    "\n",
    "ax.legend()"
   ]
  },
  {
   "cell_type": "code",
   "execution_count": null,
   "id": "19d7879a-2808-4763-ac21-e641b601afc8",
   "metadata": {},
   "outputs": [],
   "source": []
  },
  {
   "cell_type": "code",
   "execution_count": null,
   "id": "eacdcb34-057b-4f40-9390-42022c9b42d0",
   "metadata": {},
   "outputs": [],
   "source": []
  }
 ],
 "metadata": {
  "kernelspec": {
   "display_name": "Python 3 (ipykernel)",
   "language": "python",
   "name": "python3"
  },
  "language_info": {
   "codemirror_mode": {
    "name": "ipython",
    "version": 3
   },
   "file_extension": ".py",
   "mimetype": "text/x-python",
   "name": "python",
   "nbconvert_exporter": "python",
   "pygments_lexer": "ipython3"
  }
 },
 "nbformat": 4,
 "nbformat_minor": 5
}
