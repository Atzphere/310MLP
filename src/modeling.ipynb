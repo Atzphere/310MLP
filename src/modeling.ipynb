{
 "cells": [
  {
   "cell_type": "code",
   "execution_count": null,
   "id": "b66f0d58-3ded-4584-a435-8b637846b338",
   "metadata": {},
   "outputs": [],
   "source": [
    "import model\n",
    "import tf_keras as keras\n",
    "import pandas as pd\n",
    "import tensorflow as tf\n",
    "import crystal_loader\n",
    "from tqdm import tqdm\n",
    "import tqdm.keras\n",
    "\n",
    "from symmetry import *\n",
    "import dill\n",
    "from sklearn.preprocessing import StandardScaler\n",
    "import h5py\n",
    "from sklearn.model_selection import train_test_split\n",
    "print(\"hi\")"
   ]
  },
  {
   "cell_type": "code",
   "execution_count": null,
   "id": "d6592e9c-748c-4bb8-9a5e-fe4e484d0193",
   "metadata": {},
   "outputs": [],
   "source": [
    "from sklearn.neighbors import KernelDensity\n",
    "\n",
    "def inverse_density_weights(y, **kwargs):\n",
    "    kde = KernelDensity(kernel='gaussian', bandwidth=5.0).fit(y.reshape(-1, 1))\n",
    "\n",
    "    # 2. Estimate density\n",
    "    log_density = kde.score_samples(y.reshape(-1, 1))\n",
    "    density = np.exp(log_density)\n",
    "\n",
    "    # 3. Invert density for weights\n",
    "    weights = 1 / (density + 1e-6)\n",
    "    weights /= np.mean(weights)  # optional normalization\n",
    "\n",
    "    return weights.reshape(-1, 1)\n"
   ]
  },
  {
   "cell_type": "code",
   "execution_count": null,
   "id": "589b1780-cf87-410c-87e8-bae7cc827280",
   "metadata": {},
   "outputs": [],
   "source": [
    "pickles_path = \"../pickles/\"\n",
    "DNAME = \"TiO2_2015_corrected\"\n",
    "\n",
    "features, labels = crystal_loader.load_dset(pickles_path, DNAME)\n",
    "\n",
    "labels = np.array(labels)\n",
    "\n",
    "def scale_ragged(features):\n",
    "    stacked = np.vstack(features)\n",
    "    SSC = StandardScaler().fit(stacked)\n",
    "    scaled_features = [SSC.transform(struct) for struct in features]\n",
    "\n",
    "    return scaled_features\n",
    "\n",
    "scaled_features = scale_ragged(features)\n",
    "\n",
    "Xtrain, Xtest, y_train, y_test = train_test_split(scaled_features, labels, shuffle=True, random_state=12, test_size=0.4)\n",
    "Xval, Xtest, y_val, y_test = train_test_split(Xtest, y_test, shuffle=True, random_state=12, test_size=0.5)\n",
    "\n",
    "Xtrain = tf.ragged.constant(Xtrain, ragged_rank=1, inner_shape=(70,))\n",
    "Xval = tf.ragged.constant(Xval, ragged_rank=1, inner_shape=(70,))\n",
    "Xtest = tf.ragged.constant(Xtest, ragged_rank=1, inner_shape=(70,))\n",
    "\n",
    "y_train_weights = inverse_density_weights(y_train)\n",
    "y_val_weights = inverse_density_weights(y_val)"
   ]
  },
  {
   "cell_type": "code",
   "execution_count": null,
   "id": "5ecc9cf5-0c28-4e61-b769-759c589dd6d0",
   "metadata": {},
   "outputs": [],
   "source": []
  },
  {
   "cell_type": "code",
   "execution_count": null,
   "id": "be690f70-bf8a-4132-aabc-6bbe7bf08d3f",
   "metadata": {},
   "outputs": [],
   "source": [
    "from importlib import reload\n",
    "model = reload(model)\n",
    "MLPNet = model.MLPNet\n",
    "layers = [keras.layers.Dense(100, activation=\"relu\"),\n",
    "          keras.layers.Dropout(0.5),\n",
    "          keras.layers.Dense(200, activation=\"relu\"),\n",
    "          keras.layers.Dropout(0.3),\n",
    "          keras.layers.Dense(70, activation=\"relu\")]\n",
    "MLP1 = MLPNet(layers=layers, N_features=70, ragged_processing=False)\n",
    "MLP1.compile(\n",
    "    optimizer = keras.optimizers.Adam(learning_rate=0.0003),\n",
    "    loss = keras.losses.MeanSquaredError(),\n",
    "    metrics = [keras.metrics.RootMeanSquaredError()]\n",
    ")"
   ]
  },
  {
   "cell_type": "code",
   "execution_count": null,
   "id": "7f210ab9-480a-4643-a902-18ea218ee383",
   "metadata": {},
   "outputs": [],
   "source": [
    "print(MLP1.predict(Xtest))\n",
    "print(Xtrain.shape[0])"
   ]
  },
  {
   "cell_type": "code",
   "execution_count": null,
   "id": "4e45b6a1-e521-4c32-972c-38633056f619",
   "metadata": {},
   "outputs": [],
   "source": [
    "res = MLP1.fit(\n",
    "    Xtrain, y_train, sample_weight=y_train_weights,\n",
    "    batch_size = 20,\n",
    "    epochs = 600,\n",
    "    verbose = 0,\n",
    "    validation_data=(Xval, y_val),\n",
    "    validation_freq=1,\n",
    "    callbacks=[]\n",
    ")"
   ]
  },
  {
   "cell_type": "code",
   "execution_count": null,
   "id": "0107254e-618c-4cc8-a9d3-3b16f42da01f",
   "metadata": {},
   "outputs": [],
   "source": [
    "print(Xtrain.shape)\n",
    "<_FlatMapDataset element_spec=(TensorSpec(shape=(None, 70), dtype=tf.float32, name=None), TensorSpec(shape=(1,), dtype=tf.float32, name=None))>\n",
    "<_TakeDataset element_spec=(TensorSpec(shape=(None, None, 70), dtype=tf.float32, name=None), TensorSpec(shape=(None, 1), dtype=tf.float32, name=None))>"
   ]
  },
  {
   "cell_type": "code",
   "execution_count": null,
   "id": "70bd0cce-ac85-42c8-af5f-a45a029806ce",
   "metadata": {},
   "outputs": [],
   "source": []
  },
  {
   "cell_type": "code",
   "execution_count": null,
   "id": "d13cec02-bfd3-48db-92d1-e58323dd1e1a",
   "metadata": {},
   "outputs": [],
   "source": [
    "import matplotlib.pyplot as plt\n",
    "\n",
    "fig, ax = plt.subplots()\n",
    "ax.plot(res.epoch, res.history[\"loss\"], label=\"training\")\n",
    "ax.plot(res.epoch, res.history[\"val_loss\"], label=\"validation\")\n",
    "\n",
    "ax.legend()"
   ]
  },
  {
   "cell_type": "code",
   "execution_count": null,
   "id": "19d7879a-2808-4763-ac21-e641b601afc8",
   "metadata": {},
   "outputs": [],
   "source": [
    "(<tf.Tensor: shape=(23, 70), dtype=float64, numpy=\n",
    "array([[ 0.60915222, -0.54250154,  0.41247663, ..., -0.5382522 ,\n",
    "        -0.58113234, -0.6209245 ],\n",
    "       [ 0.58086981, -0.58559897,  0.36098034, ..., -0.55451661,\n",
    "        -0.59884095, -0.63351055],\n",
    "       [-0.45610275, -0.86305391, -0.51770812, ..., -0.72319429,\n",
    "        -0.7152919 , -0.6765231 ],\n",
    "       ...,\n",
    "       [-0.13484626, -0.03686642, -0.10438722, ..., -0.65592439,\n",
    "        -0.65784615, -0.64131981],\n",
    "       [ 0.52685375,  0.88439498,  0.62293384, ..., -0.36293858,\n",
    "        -0.31609761, -0.24929953],\n",
    "       [ 0.49241531,  0.69841872,  0.5813253 , ..., -0.35998991,\n",
    "        -0.31859196, -0.2801338 ]])>, array([[1.],\n",
    "       [1.],\n",
    "       [1.]]), np.int64(23), array([-19516.82259542]))"
   ]
  },
  {
   "cell_type": "code",
   "execution_count": null,
   "id": "eacdcb34-057b-4f40-9390-42022c9b42d0",
   "metadata": {},
   "outputs": [],
   "source": []
  }
 ],
 "metadata": {
  "kernelspec": {
   "display_name": "Python 3 (ipykernel)",
   "language": "python",
   "name": "python3"
  },
  "language_info": {
   "codemirror_mode": {
    "name": "ipython",
    "version": 3
   },
   "file_extension": ".py",
   "mimetype": "text/x-python",
   "name": "python",
   "nbconvert_exporter": "python",
   "pygments_lexer": "ipython3"
  }
 },
 "nbformat": 4,
 "nbformat_minor": 5
}
