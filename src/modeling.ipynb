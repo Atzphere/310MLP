{
 "cells": [
  {
   "cell_type": "code",
   "execution_count": null,
   "id": "b66f0d58-3ded-4584-a435-8b637846b338",
   "metadata": {},
   "outputs": [],
   "source": [
    "import model\n",
    "import keras\n",
    "\n",
    "import pandas as pd\n",
    "import crystal_loader\n",
    "from tqdm import tqdm\n",
    "# import symmetry\n",
    "from symmetry import *\n",
    "\n",
    "\n",
    "fpath = \"./TiO2/structure0001.xsf\"\n",
    "\n",
    "df = pd.read_csv(fpath)\n",
    "\n",
    "structs, labels = crystal_loader.get_dataset(\"./TiO2\", halt=-1)"
   ]
  },
  {
   "cell_type": "code",
   "execution_count": null,
   "id": "4e45b6a1-e521-4c32-972c-38633056f619",
   "metadata": {},
   "outputs": [],
   "source": [
    "import dill\n",
    "\n",
    "test_params = ((0, 0.003, 1, 1), (0, 0.005, 2, 1), (0, 0.02, 1, -1))\n",
    "tio_params_ang = {(\"Ti\", \"Ti\"): test_params, (\"Ti\", \"O\"): test_params, (\"O\", \"O\"): test_params}\n",
    "\n",
    "tio_params_rad = {\"Ti\": ((0, 0.003), (0, 0.01)), \"O\": ((0, 0.003), (0, 0.01))}\n",
    "\n",
    "layers = [keras.layers.Dense(50, activation=\"tanh\"), keras.layers.Dense(20, activation=\"tanh\")]\n",
    "\n",
    "MLP1 = model.MLP(n_inputs=13, layers=layers, output_func=\"linear\")\n",
    "\n",
    "MLP1.compile(\n",
    "    optimizer = keras.optimizers.Adam(learning_rate=0.0001),\n",
    "    loss = keras.losses.MeanAbsoluteError(),\n",
    "    metrics = [keras.metrics.RootMeanSquaredError()]\n",
    ")\n",
    "\n",
    "with open(\"TiO2_features.dill\", \"rb\") as dill_file:\n",
    "    features = dill.load(dill_file)"
   ]
  },
  {
   "cell_type": "code",
   "execution_count": null,
   "id": "be690f70-bf8a-4132-aabc-6bbe7bf08d3f",
   "metadata": {},
   "outputs": [],
   "source": [
    "import tensorflow as tf\n",
    "from sklearn.model_selection import train_test_split\n",
    "\n",
    "F = tf.ragged.constant(features, ragged_rank=1)\n",
    "print(F.shape)\n",
    "\n",
    "Xtrain, Xval, ytrain, yval = F[:300,:,:], F[300:,:,:], labels[:300], labels[300:]"
   ]
  },
  {
   "cell_type": "code",
   "execution_count": null,
   "id": "70bd0cce-ac85-42c8-af5f-a45a029806ce",
   "metadata": {},
   "outputs": [],
   "source": [
    "import tensorflow as tf"
   ]
  },
  {
   "cell_type": "code",
   "execution_count": null,
   "id": "d13cec02-bfd3-48db-92d1-e58323dd1e1a",
   "metadata": {},
   "outputs": [],
   "source": [
    "bpnn = MLP1.fit(\n",
    "    Xtrain, ytrain,\n",
    "    batch_size = 20,\n",
    "    epochs = 40,\n",
    "    validation_data = (Xval, yval),\n",
    "    verbose = 10\n",
    ")"
   ]
  }
 ],
 "metadata": {
  "kernelspec": {
   "display_name": "Python 3 (ipykernel)",
   "language": "python",
   "name": "python3"
  },
  "language_info": {
   "codemirror_mode": {
    "name": "ipython",
    "version": 3
   },
   "file_extension": ".py",
   "mimetype": "text/x-python",
   "name": "python",
   "nbconvert_exporter": "python",
   "pygments_lexer": "ipython3"
  }
 },
 "nbformat": 4,
 "nbformat_minor": 5
}
