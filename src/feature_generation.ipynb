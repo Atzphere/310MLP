{
 "cells": [
  {
   "cell_type": "code",
   "execution_count": null,
   "id": "d6432d20-5a84-429b-94de-6217f1b42d90",
   "metadata": {},
   "outputs": [],
   "source": [
    "import numpy as np\n",
    "import symmetry\n",
    "import crystal_loader\n",
    "import pandas as pd\n",
    "\n",
    "fpath = \"../data/TiO2/\"\n",
    "\n",
    "structs, labels, lattice_vectors, counts = crystal_loader.get_dataset(fpath, halt=-1)"
   ]
  },
  {
   "cell_type": "code",
   "execution_count": null,
   "id": "94b848f2-f6c6-4b55-8b38-76d65a32da36",
   "metadata": {},
   "outputs": [],
   "source": [
    "E_O = -432.503149303\n",
    "E_Ti = -1604.604515075\n",
    "\n",
    "E_leg = {\"Ti\": E_Ti, \"O\": E_O}"
   ]
  },
  {
   "cell_type": "code",
   "execution_count": null,
   "id": "0210cd0c-ba66-4dbd-b173-21ffa5a5ec80",
   "metadata": {},
   "outputs": [],
   "source": [
    "cohesive_e = crystal_loader.get_cohesive_energies(labels, counts, E_leg)\n",
    "n_atoms = counts.sum(axis=1)"
   ]
  },
  {
   "cell_type": "code",
   "execution_count": null,
   "id": "bd84f297-8344-452b-968c-9e26d281aac0",
   "metadata": {},
   "outputs": [],
   "source": [
    "Rc = 6.5 # A\n",
    "Rs = 0"
   ]
  },
  {
   "cell_type": "code",
   "execution_count": null,
   "id": "36220229-e421-46ad-8e03-1e921b56722b",
   "metadata": {},
   "outputs": [],
   "source": [
    "# build radial basis params:\n",
    "\n",
    "radial_etas = [0.003214, 0.035711, 0.071421, 0.124987, 0.214264, 0.357106, 0.714213, 1.428426]\n",
    "params_radial = tuple([{\"Rs\": Rs, \"eta\": eta} for eta in radial_etas])"
   ]
  },
  {
   "cell_type": "code",
   "execution_count": null,
   "id": "6537f72f-b624-4022-a3ed-afe79564aa67",
   "metadata": {},
   "outputs": [],
   "source": [
    "angular_etas = [0.000357, 0.028569, 0.089277, 0.000357, 0.028569, 0.089277, 0.000357, 0.028569, 0.089277] * 2\n",
    "angular_lambdas = [-1.0, -1.0, -1.0, -1.0, -1.0, -1.0, -1.0, -1.0, -1.0, 1.0, 1.0, 1.0, 1.0, 1.0, 1.0, 1.0, 1.0, 1.0]\n",
    "angular_zetas = [1.0, 1.0, 1.0, 2.0, 2.0, 2.0, 4.0, 4.0, 4.0, 1.0, 1.0, 1.0, 2.0, 2.0, 2.0, 4.0, 4.0, 4.0]\n",
    "\n",
    "params_angular = tuple([{\"Rs\": Rs, \"eta\": eta, \"lmbda\": lam, \"zeta\": zeta} for eta, lam, zeta in zip(angular_etas, angular_lambdas, angular_zetas)])"
   ]
  },
  {
   "cell_type": "code",
   "execution_count": null,
   "id": "bde0c5ce-ad07-4ccf-9d4d-884be93bcbde",
   "metadata": {},
   "outputs": [],
   "source": [
    "tio_params_ang = {(\"Ti\", \"Ti\"): params_angular, (\"Ti\", \"O\"): params_angular, (\"O\", \"O\"): params_angular}\n",
    "tio_params_rad = {\"Ti\": params_radial, \"O\": params_radial}\n",
    "\n",
    "features = crystal_loader.build_features(structs, lattice_vectors, Rc=6.5, params_rad=tio_params_rad, params_ang=tio_params_ang)"
   ]
  },
  {
   "cell_type": "code",
   "execution_count": null,
   "id": "08a0c866-9b63-4e23-ae03-2854a56a924f",
   "metadata": {},
   "outputs": [],
   "source": [
    "label_df = pd.DataFrame(np.hstack([labels, cohesive_e]), columns=[\"total_energy\", \"cohesive_energy\"])\n"
   ]
  },
  {
   "cell_type": "code",
   "execution_count": null,
   "id": "d04979d1-c5ab-4314-936d-341591eb198d",
   "metadata": {},
   "outputs": [],
   "source": [
    "dset_name = \"TiO2_2015_angfixed_x3\"\n",
    "\n",
    "import h5py\n",
    "\n",
    "save_name = f\"../pickles/{dset_name}_features.h5\"\n",
    "\n",
    "with h5py.File(save_name, \"w\") as f:\n",
    "    for i, arr in enumerate(features):\n",
    "        f.create_dataset(f\"array_{i}\", data=arr)\n",
    "\n",
    "save_name = f\"../pickles/{dset_name}_labeldata.h5\"\n",
    "\n",
    "label_df.to_hdf(save_name, key=\"labels\")\n",
    "counts.to_hdf(save_name, key=\"atom_counts\")\n",
    "n_atoms.to_hdf(save_name, key=\"n_atoms\")"
   ]
  },
  {
   "cell_type": "code",
   "execution_count": null,
   "id": "9ac4ee9f-1fd4-4af7-9fb3-1b7d72bbb382",
   "metadata": {},
   "outputs": [],
   "source": []
  },
  {
   "cell_type": "code",
   "execution_count": null,
   "id": "77dfb044-1682-444b-835a-e896b8232e32",
   "metadata": {},
   "outputs": [],
   "source": []
  }
 ],
 "metadata": {
  "kernelspec": {
   "display_name": "Python 3 (ipykernel)",
   "language": "python",
   "name": "python3"
  },
  "language_info": {
   "codemirror_mode": {
    "name": "ipython",
    "version": 3
   },
   "file_extension": ".py",
   "mimetype": "text/x-python",
   "name": "python",
   "nbconvert_exporter": "python",
   "pygments_lexer": "ipython3"
  }
 },
 "nbformat": 4,
 "nbformat_minor": 5
}
