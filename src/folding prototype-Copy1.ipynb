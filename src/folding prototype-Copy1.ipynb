{
 "cells": [
  {
   "cell_type": "code",
   "execution_count": null,
   "id": "b66f0d58-3ded-4584-a435-8b637846b338",
   "metadata": {},
   "outputs": [],
   "source": [
    "import keras\n",
    "import tensorflow as tf\n",
    "import pandas as pd\n",
    "import crystal_loader\n",
    "import numpy as np\n"
   ]
  },
  {
   "cell_type": "code",
   "execution_count": null,
   "id": "ac3e27fb-0892-459a-a24b-ccd46126fa30",
   "metadata": {},
   "outputs": [],
   "source": [
    "def make_dataset(mini, maxi, maxsub, num):\n",
    "    numbers = []\n",
    "    y = []\n",
    "    features = []\n",
    "    for i in range(num):\n",
    "        arr1 = np.random.randint(mini, maxi, size=(np.random.randint(1, maxsub)))\n",
    "        numbers.append(arr1)\n",
    "        features.append((len(arr1), arr1.mean()))\n",
    "        y.append(arr1.sum())\n",
    "    return np.array(features), np.array(y), numbers\n",
    "\n",
    "def make_easyset(num_instances, min_comps, max_comps):\n",
    "    comps = [] # features\n",
    "    pair_sums = [] # true reconstructed\n",
    "    sums = [] # y\n",
    "\n",
    "    for i in range(num_instances):\n",
    "        arr1 = np.random.randint(1, 10, size=(np.random.randint(1, max_comps), 2))\n",
    "        comps.append(np.array(arr1))\n",
    "        pair_sums.append(arr1.sum(axis=-1))\n",
    "        sums.append(arr1.sum())\n",
    "    return comps, np.array(sums), pair_sums\n"
   ]
  },
  {
   "cell_type": "code",
   "execution_count": null,
   "id": "4e45b6a1-e521-4c32-972c-38633056f619",
   "metadata": {},
   "outputs": [],
   "source": [
    "class MLP(keras.Model):\n",
    "    def __init__(self, n_inputs, layers, output_func=\"linear\"):\n",
    "        super().__init__()\n",
    "        n_units = 1\n",
    "        # subnetwork used to evaluate atomic potential contributions, evaluated for each atom in a structure.\n",
    "        self.subnet = keras.Sequential(layers=[\n",
    "            keras.Input(shape=(2,))]  # input layer takes in n_inputs number of symmetry function features\n",
    "            + layers  # hidden layers\n",
    "            + [keras.layers.Dense(n_units, activation=output_func)])  # output layer returns individual energy contributions\n",
    "        self.subnet.layers[0].set_weights([np.ones(shape=(2, n_units)), np.zeros(shape=(n_units,))])\n",
    "        self.num_features = n_inputs\n",
    "\n",
    "    def call(self, inputs, training=False):\n",
    "        '''\n",
    "        feed-forward method for the model\n",
    "        should have the signature we ultimately want the model to have,\n",
    "        i.e. for one structure: Tensor[StructureFeatures] -> Energy_total\n",
    "\n",
    "        which then for multiple structures:\n",
    "            Tensor[Tensor[StructureFeatures]] -> Tensor[Energy_total]\n",
    "\n",
    "        wherein in reality the outermost Tensor is just a list.\n",
    "\n",
    "        inputs: shape (num_atoms, num_features) tensor\n",
    "\n",
    "        (None, None, 2)\n",
    "\n",
    "        features: number of numbers, average of numbers\n",
    "        '''\n",
    "\n",
    "        #  subnet.call(Tensor[StructureFeatures]) -> Tensor[EnergyContributions]\n",
    "\n",
    "        numsum = []\n",
    "\n",
    "        def process_struct(struct):\n",
    "            return self.subnet(struct, training=training)\n",
    "\n",
    "        pairwise_contribs = tf.map_fn(process_struct, inputs, fn_output_signature=tf.RaggedTensorSpec(ragged_rank=0))\n",
    "        numsum.append(tf.reduce_sum(pairwise_contribs, axis=1))\n",
    "\n",
    "        return numsum\n",
    "        # for structure in inputs:\n",
    "        #     atom_contributions = self.subnet(structure, training=training)\n",
    "        #     structure_energy = tf.reduce_sum(atom_contributions)\n",
    "        #     structure_energies.append(structure_energy)\n",
    "\n",
    "        # return structure_energies"
   ]
  },
  {
   "cell_type": "code",
   "execution_count": null,
   "id": "be690f70-bf8a-4132-aabc-6bbe7bf08d3f",
   "metadata": {},
   "outputs": [],
   "source": [
    "X, y, y_hidden = make_easyset(8, 2, 6)\n",
    "foo = MLP(n_inputs=2, layers=[])\n",
    "Xten = tf.ragged.constant(X, ragged_rank=1, inner_shape=(2,))\n",
    "\n",
    "print(Xten)\n",
    "print(Xten.shape)\n",
    "\n",
    "\n",
    "foo.predict(Xten)\n"
   ]
  },
  {
   "cell_type": "code",
   "execution_count": null,
   "id": "c261c18c-afe7-4f0f-a5a4-a4f2518b69d9",
   "metadata": {},
   "outputs": [],
   "source": [
    "\n"
   ]
  },
  {
   "cell_type": "code",
   "execution_count": null,
   "id": "70bd0cce-ac85-42c8-af5f-a45a029806ce",
   "metadata": {},
   "outputs": [],
   "source": [
    "# X, y, y_contrib = make_dataset(0, 25, 54, 500)\n"
   ]
  },
  {
   "cell_type": "code",
   "execution_count": null,
   "id": "d13cec02-bfd3-48db-92d1-e58323dd1e1a",
   "metadata": {},
   "outputs": [],
   "source": [
    "bpnn = MLP1.fit(\n",
    "    Xtrain, ytrain,\n",
    "    batch_size = 20,\n",
    "    epochs = 40,\n",
    "    validation_data = (Xval, yval),\n",
    "    verbose = 10\n",
    ")"
   ]
  }
 ],
 "metadata": {
  "kernelspec": {
   "display_name": "Python 3 (ipykernel)",
   "language": "python",
   "name": "python3"
  },
  "language_info": {
   "codemirror_mode": {
    "name": "ipython",
    "version": 3
   },
   "file_extension": ".py",
   "mimetype": "text/x-python",
   "name": "python",
   "nbconvert_exporter": "python",
   "pygments_lexer": "ipython3"
  }
 },
 "nbformat": 4,
 "nbformat_minor": 5
}
