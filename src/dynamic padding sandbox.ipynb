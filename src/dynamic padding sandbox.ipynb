{
 "cells": [
  {
   "cell_type": "code",
   "execution_count": null,
   "id": "8cb6b30a-39ea-4b62-bfef-88298a53f718",
   "metadata": {},
   "outputs": [],
   "source": [
    "from model import MLPNet\n",
    "import tf_keras as keras\n",
    "import pandas as pd\n",
    "import tensorflow as tf\n",
    "from tqdm import tqdm\n",
    "import tqdm.keras\n",
    "import numpy as np\n",
    "import dill\n",
    "from sklearn.preprocessing import StandardScaler\n",
    "import h5py\n",
    "from sklearn.model_selection import train_test_split\n",
    "import contextlib"
   ]
  },
  {
   "cell_type": "code",
   "execution_count": null,
   "id": "7dffb62d-b297-44c7-86f5-0427762a22d7",
   "metadata": {},
   "outputs": [],
   "source": [
    "@contextlib.contextmanager\n",
    "def temp_seed(seed):\n",
    "    former_state = np.random.get_state()\n",
    "    np.random.seed(seed)\n",
    "    try:\n",
    "        yield\n",
    "    finally:\n",
    "        np.random.set_state(former_state)\n",
    "\n",
    "def dmake():\n",
    "    with temp_seed(42):\n",
    "        for i in range(20):\n",
    "            shape = (np.random.randint(2, 10), 2)\n",
    "            shape2 = (shape[0], 1)\n",
    "            yield ((tf.constant(np.cumsum(np.ones(shape)), dtype=tf.float32, shape=shape),\n",
    "                   tf.constant(np.ones(shape2), dtype=tf.float32, shape=shape2)),\n",
    "                   [-99])"
   ]
  },
  {
   "cell_type": "code",
   "execution_count": null,
   "id": "7088bed8-f0a9-48b6-b048-c447ac8a3f16",
   "metadata": {},
   "outputs": [],
   "source": [
    "foo = list(dmake())\n",
    "booga = "
   ]
  },
  {
   "cell_type": "code",
   "execution_count": null,
   "id": "ef4a0d21-baee-4744-a4ec-92a93d639f45",
   "metadata": {},
   "outputs": [],
   "source": [
    "dataset = tf.data.Dataset.from_generator(\n",
    "    dmake,\n",
    "    output_signature=((tf.TensorSpec(shape=(None, 2), dtype=tf.float32),\n",
    "                     tf.TensorSpec(shape=(None, 1), dtype=tf.float32)),\n",
    "                     tf.TensorSpec(shape=(1,), dtype=tf.float32)))\n",
    "\n",
    "# print(list(dataset.take(8)))\n",
    "# print(\"PADDED BATCHES (size 4)\")\n",
    "# print(list(dataset.take(4).padded_batch(batch_size=4, padded_shapes=(((None, 2),\n",
    "#                                                                      (None, 1)),\n",
    "#                                                                      (1,)))))\n",
    "\n",
    "\n",
    "\n"
   ]
  },
  {
   "cell_type": "code",
   "execution_count": null,
   "id": "6fb6b939-2ee8-4d05-801e-df6ddc459743",
   "metadata": {},
   "outputs": [],
   "source": [
    "broke = dataset.padded_batch(batch_size=4, padded_shapes=(((None, 2),\n",
    "                                                                     (None, 1)),\n",
    "                                                                     (1,)))\n",
    "X, y = next(broke.as_numpy_iterator())\n",
    "features, masks = X\n",
    "\n",
    "print(features, masks, y)"
   ]
  },
  {
   "cell_type": "code",
   "execution_count": null,
   "id": "c155e5c1-788f-481f-8e50-2e267d92188c",
   "metadata": {},
   "outputs": [],
   "source": [
    "X = [1, 2, 3, 4]\n",
    "y = [5, 6, 7, 8]\n",
    "sample_weight = None#[\"a\", \"b\", \"c\", \"d\"]\n",
    "for a, b, *c in zip(*((X, y) + ((sample_weight,) if sample_weight else ()))):\n",
    "    if c:\n",
    "        print(a, b, c[0])\n",
    "    else:\n",
    "        print(a, b)"
   ]
  },
  {
   "cell_type": "code",
   "execution_count": null,
   "id": "b7f3eaee-2d54-49d3-be14-c18c258a1e6a",
   "metadata": {},
   "outputs": [],
   "source": []
  },
  {
   "cell_type": "code",
   "execution_count": null,
   "id": "dd643e0e-c536-4bd0-b28f-2963fabf3562",
   "metadata": {},
   "outputs": [],
   "source": [
    "test = np.array([1, 1, 1, 1, 2, 2, 2, 2, 3, 3, 3])\n",
    "\n",
    "_chunksum(test, 100)"
   ]
  }
 ],
 "metadata": {
  "kernelspec": {
   "display_name": "Python 3 (ipykernel)",
   "language": "python",
   "name": "python3"
  },
  "language_info": {
   "codemirror_mode": {
    "name": "ipython",
    "version": 3
   },
   "file_extension": ".py",
   "mimetype": "text/x-python",
   "name": "python",
   "nbconvert_exporter": "python",
   "pygments_lexer": "ipython3"
  }
 },
 "nbformat": 4,
 "nbformat_minor": 5
}
