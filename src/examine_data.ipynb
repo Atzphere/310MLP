{
 "cells": [
  {
   "cell_type": "code",
   "execution_count": null,
   "id": "df5b389a-20c8-4a5c-8760-6597ea72c750",
   "metadata": {},
   "outputs": [],
   "source": [
    "import h5py\n",
    "\n",
    "import numpy as np\n",
    "\n",
    "import matplotlib.pyplot as plt"
   ]
  },
  {
   "cell_type": "code",
   "execution_count": null,
   "id": "e17053b9-6ee9-4cf2-bc20-130550c321a3",
   "metadata": {},
   "outputs": [],
   "source": [
    "features_path = \"../pickles/TiO2_2015_angfixed_x2_features.h5\"\n",
    "labels_path = \"../pickles/TiO2_2015_angfixed_x2_labels.h5\"\n",
    "\n",
    "with h5py.File(features_path, \"r\") as f:\n",
    "    features = [f[f\"array_{i}\"][:] for i in range(len(f))]\n",
    "\n",
    "with h5py.File(labels_path, \"r\") as f:\n",
    "    labels = [f[f\"array_{i}\"][:] for i in range(len(f))]\n",
    "\n",
    "labels = np.array(labels)"
   ]
  },
  {
   "cell_type": "code",
   "execution_count": null,
   "id": "e1362964-351f-4a8a-966d-ef15a39d36cd",
   "metadata": {},
   "outputs": [],
   "source": [
    "n_atoms = np.array(list([len(x) for x in features]))"
   ]
  },
  {
   "cell_type": "code",
   "execution_count": null,
   "id": "64a9bbd2-4f43-41d8-afab-e5dc7bf4223f",
   "metadata": {},
   "outputs": [],
   "source": [
    "form_e = labels.flatten() / n_atoms "
   ]
  },
  {
   "cell_type": "code",
   "execution_count": null,
   "id": "5970ac54-87d4-416a-8da9-f854f305e1a8",
   "metadata": {},
   "outputs": [],
   "source": [
    "E_O = -432.503149303\n",
    "E_Ti = -1604.604515075"
   ]
  },
  {
   "cell_type": "code",
   "execution_count": null,
   "id": "427875ae-54c7-41c4-bd16-95aa74f2dc8d",
   "metadata": {},
   "outputs": [],
   "source": [
    "eo = 16 * E_O\n",
    "eti = 8 * E_Ti\n",
    "E0 = -19960.74194513\n",
    "\n",
    "print((E0 - eo - eti) / 24)"
   ]
  },
  {
   "cell_type": "code",
   "execution_count": null,
   "id": "09a2a8ad-3192-4bb1-8730-4e70d78006db",
   "metadata": {},
   "outputs": [],
   "source": [
    "print(form_e)\n",
    "\n",
    "plt.hist(form_e)"
   ]
  }
 ],
 "metadata": {
  "kernelspec": {
   "display_name": "Python 3 (ipykernel)",
   "language": "python",
   "name": "python3"
  },
  "language_info": {
   "codemirror_mode": {
    "name": "ipython",
    "version": 3
   },
   "file_extension": ".py",
   "mimetype": "text/x-python",
   "name": "python",
   "nbconvert_exporter": "python",
   "pygments_lexer": "ipython3"
  }
 },
 "nbformat": 4,
 "nbformat_minor": 5
}
