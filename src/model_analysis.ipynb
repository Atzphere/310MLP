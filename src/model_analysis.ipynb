{
 "cells": [
  {
   "cell_type": "code",
   "execution_count": null,
   "id": "0f1cb543-3678-406b-bc05-f2d1644f8d93",
   "metadata": {},
   "outputs": [],
   "source": [
    "from importlib import reload\n",
    "import model\n",
    "model = reload(model)\n",
    "\n",
    "import tf_keras as keras\n",
    "import pandas as pd\n",
    "import tensorflow as tf\n",
    "import crystal_loader\n",
    "crystal_loader = reload(crystal_loader)\n",
    "from tqdm import tqdm\n",
    "import tqdm.keras\n",
    "import numpy as np\n",
    "from symmetry import *\n",
    "import dill\n",
    "from sklearn.preprocessing import StandardScaler\n",
    "import h5py\n",
    "from sklearn.model_selection import train_test_split\n",
    "import matplotlib.pyplot as plt\n",
    "\n",
    "\n",
    "import tensorflow as tf"
   ]
  },
  {
   "cell_type": "code",
   "execution_count": null,
   "id": "272b0e93-988a-48ac-9a28-193c4de37831",
   "metadata": {},
   "outputs": [],
   "source": [
    "features_path = \"../pickles/TiO2_2015_corrected_features.h5\"\n",
    "labels_path = \"../pickles/TiO2_2015_corrected_labels.h5\"\n",
    "\n",
    "with h5py.File(features_path, \"r\") as f:\n",
    "    features = [f[f\"array_{i}\"][:] for i in range(len(f))]\n",
    "\n",
    "with h5py.File(labels_path, \"r\") as f:\n",
    "    labels = [f[f\"array_{i}\"][:] for i in range(len(f))]\n",
    "\n",
    "labels = np.array(labels)\n",
    "\n",
    "def scale_ragged(features):\n",
    "    stacked = np.vstack(features)\n",
    "    SSC = StandardScaler().fit(stacked)\n",
    "    scaled_features = [SSC.transform(struct) for struct in features]\n",
    "\n",
    "    return scaled_features\n",
    "\n",
    "scaled_features = scale_ragged(features)\n",
    "\n",
    "Xtrain, Xtest, y_train, y_test = train_test_split(scaled_features, labels, shuffle=True, random_state=12, test_size=0.4)\n",
    "Xval, Xtest, y_val, y_test = train_test_split(Xtest, y_test, shuffle=True, random_state=12, test_size=0.5)\n",
    "\n",
    "Xtrain = tf.ragged.constant(Xtrain, ragged_rank=1, inner_shape=(70,))\n",
    "Xval = tf.ragged.constant(Xval, ragged_rank=1, inner_shape=(70,))\n",
    "Xtest = tf.ragged.constant(Xtest, ragged_rank=1, inner_shape=(70,))\n",
    "\n",
    "from sklearn.neighbors import KernelDensity\n",
    "\n",
    "def inverse_density_weights(y, **kwargs):\n",
    "    kde = KernelDensity(kernel='gaussian', bandwidth=5.0).fit(y.reshape(-1, 1))\n",
    "\n",
    "    # 2. Estimate density\n",
    "    log_density = kde.score_samples(y.reshape(-1, 1))\n",
    "    density = np.exp(log_density)\n",
    "\n",
    "    # 3. Invert density for weights\n",
    "    weights = 1 / (density + 1e-6)\n",
    "    weights /= np.mean(weights)  # optional normalization\n",
    "\n",
    "    return weights.reshape(-1, 1)\n",
    "\n",
    "y_train_weights = inverse_density_weights(y_train)\n",
    "y_val_weights = inverse_density_weights(y_val)"
   ]
  },
  {
   "cell_type": "code",
   "execution_count": null,
   "id": "91ea8b4d-7a36-4d42-8e84-f53f084d407d",
   "metadata": {},
   "outputs": [],
   "source": [
    "layers = [keras.layers.Dense(100, activation=\"relu\"),\n",
    "          keras.layers.Dropout(0.3),\n",
    "          keras.layers.Dense(200, activation=\"relu\"),\n",
    "          keras.layers.Dropout(0.3),\n",
    "          keras.layers.Dense(70, activation=\"relu\")]\n",
    "\n",
    "MLP1 = model.MLPNet(layers=layers, N_features=70, ragged_processing=False)\n",
    "MLP1.built = True"
   ]
  },
  {
   "cell_type": "code",
   "execution_count": null,
   "id": "451d9a14-fdb3-4ff5-bbc1-e19a3f25f239",
   "metadata": {},
   "outputs": [],
   "source": [
    "MLP1.load_weights('./saved_models/v5_weighted.h5')"
   ]
  },
  {
   "cell_type": "code",
   "execution_count": null,
   "id": "49d72a76-a9a3-4e04-91db-9254e5a2b641",
   "metadata": {},
   "outputs": [],
   "source": [
    "y_pred = MLP1.predict(Xtest)\n",
    "y_exam = np.squeeze(y_test)\n",
    "\n",
    "filt_80k = (y_exam >= -9e4) & (y_exam <= -7e4)\n",
    "filt_40k = (y_exam >= -5e4) & (y_exam <= -3e4)\n",
    "filt_20k = (y_exam >= -3e4) & (y_exam <= -1e4)\n",
    "filt_10k = (y_exam >= -1e4) & (y_exam <= 1e4)\n",
    "\n",
    "yt_80k = y_exam[filt_80k]\n",
    "yt_40k = y_exam[filt_40k]\n",
    "yt_20k = y_exam[filt_20k]\n",
    "yt_10k = y_exam[filt_10k]\n",
    "\n",
    "y_pred_80k = y_pred[filt_80k]\n",
    "y_pred_40k = y_pred[filt_40k]\n",
    "y_pred_20k = y_pred[filt_20k]\n",
    "y_pred_10k = y_pred[filt_10k]"
   ]
  },
  {
   "cell_type": "code",
   "execution_count": null,
   "id": "23ffc9b4-cde4-425b-a176-d796dcc0e28b",
   "metadata": {},
   "outputs": [],
   "source": [
    "fig, ax = plt.subplots(1, 4, num=2, figsize=(20, 5))\n",
    "\n",
    "for axes, ytest, ypred in zip(ax, [yt_80k, yt_40k, yt_20k, yt_10k], [y_pred_80k, y_pred_40k, y_pred_20k, y_pred_10k]):\n",
    "    print(len(ytest), len(ypred))\n",
    "    axes.hist(ytest, bins=\"auto\", label=\"true\", alpha=0.6)\n",
    "    axes.hist(ypred, bins=\"auto\", label=\"predicted\", alpha=0.7)\n",
    "\n",
    "    axes.legend()"
   ]
  },
  {
   "cell_type": "code",
   "execution_count": null,
   "id": "43791af3-7210-432a-ad37-af62c6042e45",
   "metadata": {},
   "outputs": [],
   "source": [
    "from sklearn.metrics import r2_score, root_mean_squared_error\n",
    "\n",
    "fig, ax = plt.subplots(num=3, figsize=(10, 6))\n",
    "ax.scatter(y_exam, y_pred)\n",
    "ax.set_title(\"y pred vs y test overview\")\n",
    "\n",
    "x = np.linspace(-90000, -10000, 200)\n",
    "ax.plot(x, x, c=\"r\")\n",
    "\n",
    "fig, ax = plt.subplots(1, 4, num=2, figsize=(20, 5))\n",
    "fig.suptitle(\"Predicted vs Actual plots in various energy ranges\")\n",
    "print(len(y_exam))\n",
    "for axes, ytest, ypred in zip(ax, [yt_80k, yt_40k, yt_20k, yt_10k], [y_pred_80k, y_pred_40k, y_pred_20k, y_pred_10k]):\n",
    "    axes.scatter(ytest, ypred, lw=0, marker=\".\", c=np.arange(np.size(ytest)))\n",
    "    axes.set_xlabel(f\"true (eV) (N={len(ytest)})\")\n",
    "    axes.set_ylabel(\"predicted (eV)\")\n",
    "    axes.set_aspect(\"equal\")\n",
    "    axmin = np.min([np.min(ytest), np.min(ypred)])\n",
    "    axmax = np.max([np.max(ytest), np.max(ypred)])\n",
    "    x = np.linspace(axmin, axmax)\n",
    "    axes.plot(x, x, c=\"r\")\n",
    "    axes.set_xlim(axmin, axmax)\n",
    "    axes.set_ylim(axmin, axmax)\n",
    "\n",
    "print(r2_score(y_exam, y_pred))\n",
    "print(root_mean_squared_error(y_exam, y_pred))"
   ]
  },
  {
   "cell_type": "code",
   "execution_count": null,
   "id": "dbdc5d83-3515-46ea-91a8-2bce11f3a442",
   "metadata": {},
   "outputs": [],
   "source": [
    "import pandas as pd\n",
    "import crystal_loader\n",
    "\n",
    "structures = []\n",
    "LVs = []\n",
    "\n",
    "LV = np.array([[1, 0, 0], [0, 1, 0], [0, 0, 1]])\n",
    "# x = pd.DataFrame({\"Atom\": [\"Ti\", \"O\", \"Ti\"], \"x\": [0, d, 0.01], \"y\": [0, 0, 0.9], \"z\": [0, 0, 0]})\n",
    "for d in np.linspace(0.001, 1, 1200):\n",
    "    x = pd.DataFrame({\"Atom\": [\"Ti\", \"O\", \"Ti\"], \"x\": [0, d, 1], \"y\": [0, 0, 0], \"z\": [0, 0, 0]})\n",
    "    # print(x)\n",
    "    structures.append(x)\n",
    "    LVs.append(LV)\n",
    "\n",
    "LVs = np.array(LVs)\n",
    "\n",
    "print(x)"
   ]
  },
  {
   "cell_type": "code",
   "execution_count": null,
   "id": "54f72b87-e94f-4823-b168-9f5875e6f907",
   "metadata": {},
   "outputs": [],
   "source": [
    "Rc = 6.5 # A\n",
    "Rs = 0\n",
    "\n",
    "# build radial basis params:\n",
    "\n",
    "radial_etas = [0.003214, 0.214264, 0.035711, 0.357106, 0.071421, 0.714213, 0.124987, 1.428426]\n",
    "params_radial = tuple([{\"Rs\": Rs, \"eta\": eta} for eta in radial_etas])\n",
    "\n",
    "angular_etas = [0.000357, 0.028569, 0.089277, 0.000357, 0.028569, 0.089277, 0.000357, 0.028569, 0.089277] * 2\n",
    "angular_lambdas = [-1.0, -1.0, -1.0, -1.0, -1.0, -1.0, -1.0, -1.0, -1.0, 1.0, 1.0, 1.0, 1.0, 1.0, 1.0, 1.0, 1.0, 1.0]\n",
    "angular_zetas = [1.0, 1.0, 1.0, 2.0, 2.0, 2.0, 4.0, 4.0, 4.0, 1.0, 1.0, 1.0, 2.0, 2.0, 2.0, 4.0, 4.0, 4.0]\n",
    "\n",
    "params_angular = tuple([{\"Rs\": Rs, \"eta\": eta, \"lmbda\": lam, \"zeta\": zeta} for eta, lam, zeta in zip(angular_etas, angular_lambdas, angular_zetas)])\n",
    "\n",
    "tio_params_ang = {(\"Ti\", \"Ti\"): params_angular, (\"Ti\", \"O\"): params_angular, (\"O\", \"O\"): params_angular}\n",
    "tio_params_rad = {\"Ti\": params_radial, \"O\": params_radial}"
   ]
  },
  {
   "cell_type": "code",
   "execution_count": null,
   "id": "420c5805-cf80-4c32-8b3d-d6640bfac705",
   "metadata": {},
   "outputs": [],
   "source": [
    "# features = crystal_loader.build_features(structures, LVs, Rc=6.5, params_rad=tio_params_rad, params_ang=tio_params_ang)\n",
    "import symmetry\n",
    "\n",
    "# features = symmetry.get_features(structures, LVs, Rc=6.5, params_rad=tio_params_rad, params_ang=tio_params_ang)\n",
    "\n",
    "features = crystal_loader.build_features(structures, LVs, Rc=6.5, params_rad=tio_params_rad, params_ang=tio_params_ang)"
   ]
  },
  {
   "cell_type": "code",
   "execution_count": null,
   "id": "7a53df44-a0c7-4b47-a815-f2120883da08",
   "metadata": {},
   "outputs": [],
   "source": [
    "%matplotlib widget\n",
    "\n",
    "feats = tf.ragged.constant(features, ragged_rank=1, inner_shape=(70,))\n",
    "y_pred = MLP1.predict(feats)\n",
    "\n"
   ]
  },
  {
   "cell_type": "code",
   "execution_count": null,
   "id": "9e835809-0d5a-46fb-9bbe-bfb95dd399d3",
   "metadata": {},
   "outputs": [],
   "source": [
    "plt.close(15)\n",
    "d = np.linspace(0.001, 1, 1200)\n",
    "fig, ax = plt.subplots(num=15)\n",
    "ax.plot(d, y_pred)\n",
    "ax.set_xlabel(\"middle atom position (angstroms)\")\n",
    "ax.set_ylabel('predicted E (eV)')\n"
   ]
  },
  {
   "cell_type": "code",
   "execution_count": null,
   "id": "8d002a21-9768-4fc4-938b-9af99264c56d",
   "metadata": {},
   "outputs": [],
   "source": [
    "deez = [[1, 2], [3, 4], [5, 6]]\n",
    "\n",
    "deez[0:1][0][0]\n",
    "\n",
    "[(('Ti', ([0., 0., 0.])), ('O', ([0.001, 0.   , 0.   ])))][0][0]"
   ]
  }
 ],
 "metadata": {
  "kernelspec": {
   "display_name": "Python 3 (ipykernel)",
   "language": "python",
   "name": "python3"
  },
  "language_info": {
   "codemirror_mode": {
    "name": "ipython",
    "version": 3
   },
   "file_extension": ".py",
   "mimetype": "text/x-python",
   "name": "python",
   "nbconvert_exporter": "python",
   "pygments_lexer": "ipython3"
  }
 },
 "nbformat": 4,
 "nbformat_minor": 5
}
