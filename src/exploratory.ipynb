{
 "cells": [
  {
   "cell_type": "code",
   "execution_count": null,
   "id": "b17f4cab-574f-47e8-95b7-80ef9e05fe25",
   "metadata": {},
   "outputs": [],
   "source": [
    "import pandas as pd\n",
    "import crystal_loader\n",
    "from tqdm import tqdm\n",
    "\n",
    "from symmetry import *\n",
    "import os\n",
    "\n",
    "fpath = \"../data/TiO2/\"\n",
    "\n",
    "structs, labels, vecs = crystal_loader.get_dataset(fpath, halt=-1)\n"
   ]
  },
  {
   "cell_type": "code",
   "execution_count": null,
   "id": "1ad7beb9-9bb4-4135-b6d2-f8901d570c86",
   "metadata": {},
   "outputs": [],
   "source": []
  },
  {
   "cell_type": "code",
   "execution_count": null,
   "id": "57a8bcd4-0bc2-4ef6-8f21-72c9db9413f3",
   "metadata": {},
   "outputs": [],
   "source": []
  },
  {
   "cell_type": "code",
   "execution_count": null,
   "id": "aab8e931-ff1d-4f2d-be1b-522fce16edb7",
   "metadata": {},
   "outputs": [],
   "source": []
  },
  {
   "cell_type": "code",
   "execution_count": null,
   "id": "68d86bb5-f1f4-4d19-a71b-1e8cd1542952",
   "metadata": {},
   "outputs": [],
   "source": [
    "import matplotlib.pyplot as plt \n",
    "\n",
    "N_atoms = list([len(struct) for struct in structs])\n",
    "fig, ax = plt.subplots()\n",
    "ax.scatter(N_atoms, -labels)\n",
    "ax.set_xlabel(\"Atom Count\")\n",
    "ax.set_ylabel(\"abs structure energy\")"
   ]
  },
  {
   "cell_type": "code",
   "execution_count": null,
   "id": "eeb8f400-4408-4f66-ac1c-680b4acbc4c0",
   "metadata": {},
   "outputs": [],
   "source": [
    "np.array([False, True]) * np.array([1, 1])"
   ]
  }
 ],
 "metadata": {
  "kernelspec": {
   "display_name": "Python 3 (ipykernel)",
   "language": "python",
   "name": "python3"
  },
  "language_info": {
   "codemirror_mode": {
    "name": "ipython",
    "version": 3
   },
   "file_extension": ".py",
   "mimetype": "text/x-python",
   "name": "python",
   "nbconvert_exporter": "python",
   "pygments_lexer": "ipython3"
  }
 },
 "nbformat": 4,
 "nbformat_minor": 5
}
