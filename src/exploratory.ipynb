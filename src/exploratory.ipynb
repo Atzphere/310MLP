{
 "cells": [
  {
   "cell_type": "code",
   "execution_count": null,
   "id": "b17f4cab-574f-47e8-95b7-80ef9e05fe25",
   "metadata": {},
   "outputs": [],
   "source": [
    "import pandas as pd\n",
    "import crystal_loader\n",
    "from tqdm import tqdm\n",
    "# import symmetry\n",
    "from symmetry import *\n",
    "\n",
    "\n",
    "fpath = \"./TiO2/structure0001.xsf\"\n",
    "\n",
    "df = pd.read_csv(fpath)\n",
    "\n",
    "structs, labels = crystal_loader.get_dataset(\"./TiO2\", halt=-1)\n"
   ]
  },
  {
   "cell_type": "code",
   "execution_count": null,
   "id": "1ad7beb9-9bb4-4135-b6d2-f8901d570c86",
   "metadata": {},
   "outputs": [],
   "source": [
    "test_params = ((0, 0.003, 1, 1), (0, 0.005, 2, 1), (0, 0.02, 1, -1))\n",
    "tio_params_ang = {(\"Ti\", \"Ti\"): test_params, (\"Ti\", \"O\"): test_params, (\"O\", \"O\"): test_params}\n",
    "\n",
    "tio_params_rad = {\"Ti\": ((0, 0.003), (0, 0.01)), \"O\": ((0, 0.003), (0, 0.01))}\n",
    "\n",
    "features = crystal_loader.build_features(structs, Rc=6.5, params_rad=tio_params_rad, params_ang=tio_params_ang)"
   ]
  },
  {
   "cell_type": "code",
   "execution_count": null,
   "id": "57a8bcd4-0bc2-4ef6-8f21-72c9db9413f3",
   "metadata": {},
   "outputs": [],
   "source": [
    "import dill\n",
    "\n",
    "with open(\"TiO2_features.dill\", \"wb\") as dill_file:\n",
    "    dill.dump(features, dill_file)"
   ]
  },
  {
   "cell_type": "code",
   "execution_count": null,
   "id": "68d86bb5-f1f4-4d19-a71b-1e8cd1542952",
   "metadata": {},
   "outputs": [],
   "source": []
  }
 ],
 "metadata": {
  "kernelspec": {
   "display_name": "Python 3 (ipykernel)",
   "language": "python",
   "name": "python3"
  },
  "language_info": {
   "codemirror_mode": {
    "name": "ipython",
    "version": 3
   },
   "file_extension": ".py",
   "mimetype": "text/x-python",
   "name": "python",
   "nbconvert_exporter": "python",
   "pygments_lexer": "ipython3"
  }
 },
 "nbformat": 4,
 "nbformat_minor": 5
}
